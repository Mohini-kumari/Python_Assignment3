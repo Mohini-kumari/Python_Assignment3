{
 "cells": [
  {
   "cell_type": "markdown",
   "id": "d5ec848e-1591-4648-aefa-8f1d5e08e051",
   "metadata": {},
   "source": [
    "This code is an offer letter generator. It asks the user for all the required credentials to generate the offer letter."
   ]
  },
  {
   "cell_type": "code",
   "execution_count": 8,
   "id": "f9244bf7-ff6d-4cb0-8727-5e6a35f833dd",
   "metadata": {},
   "outputs": [
    {
     "name": "stdout",
     "output_type": "stream",
     "text": [
      "===Offer letter >\n",
      "\n"
     ]
    },
    {
     "name": "stdin",
     "output_type": "stream",
     "text": [
      "Enter canidates's name:  Priya Sharma\n",
      "Enter job position:  Software Engneer\n",
      "Enter date of joining (DD-MM-YYYY):  01-09-2025\n",
      "Enter total salary package:  ₹5,00,000 per month\n",
      "Enter HR contact email :  priya@123.com\n",
      "Enter company address:  123 Green Park, Delhi\n"
     ]
    },
    {
     "name": "stdout",
     "output_type": "stream",
     "text": [
      "=== GENERATED OFFER LETTER ===\n",
      " \n",
      "123 Green Park, Delhi\n",
      "\n",
      "Dear Priya Sharma,\n",
      "\n",
      "Subject: Offer of Employment for the position of Software Engneer\n",
      "\n",
      "We are delighted to extend this formal offer of employment to your for the position of Software Engneer at our organization. Based on your qualifications andthe skills you demonstrated during the recruitent process, we are confident that your will be a valuable addition to our team.\n",
      "\n",
      "As discussed, your expected date of joining is 01-09-2025. Your total compensatio package will be ₹5,00,000 per month, which includes all salary componentsas per the company's policy. Further details regarding your compensation will be provided in your employment contract.\n",
      "\n",
      "We expect you to bring your best efforts to help the company achieve its goals, and we are committed to supporting your professional growth during your time with us.\n",
      "\n",
      "Please confirm your acceptance of this offer by sending an email to priya@123.com at your earliest convenience. Should you have any queries regarding this offer, feel free to contact us.\n",
      "\n",
      "We look forward to having your onboard and are excited about the great things we can accomplish together.\n",
      "\n",
      "Sincerely,\n",
      "\n",
      "HR Department\n",
      "\n"
     ]
    }
   ],
   "source": [
    "# create an offer letter for a candidate \n",
    "# Taking input from the user for each variable\n",
    "\n",
    "print(\"===Offer letter >\\n\")\n",
    "\n",
    "# Taking all inputs from the user\n",
    "name = input(\"Enter candidates's name: \" )\n",
    "position = input(\"Enter job position: \")\n",
    "joining_date = input(\"Enter date of joining (DD-MM-YYYY): \")\n",
    "salary = input(\"Enter total salary package: \")\n",
    "email = input(\"Enter HR contact email : \")\n",
    "address = input(\"Enter company address: \")\n",
    "\n",
    "# Generating the offer Letter using docstring and the format string\n",
    "print(\"=== GENERATED OFFER LETTER ===\")\n",
    "\n",
    "offer_letter_content = f\"\"\" \n",
    "{address}\n",
    "\n",
    "Dear {name},\n",
    "\n",
    "Subject: Offer of Employment for the position of {position}\n",
    "\n",
    "We are delighted to extend this formal offer of employment to your for the position of {position} at our organization. Based on your qualifications andthe skills you demonstrated during the recruitent process, we are confident that your will be a valuable addition to our team.\n",
    "\n",
    "As discussed, your expected date of joining is {joining_date}. Your total compensatio package will be {salary}, which includes all salary componentsas per the company's policy. Further details regarding your compensation will be provided in your employment contract.\n",
    "\n",
    "We expect you to bring your best efforts to help the company achieve its goals, and we are committed to supporting your professional growth during your time with us.\n",
    "\n",
    "Please confirm your acceptance of this offer by sending an email to {email} at your earliest convenience. Should you have any queries regarding this offer, feel free to contact us.\n",
    "\n",
    "We look forward to having your onboard and are excited about the great things we can accomplish together.\n",
    "\n",
    "Sincerely,\n",
    "\n",
    "HR Department\n",
    "\"\"\"\n",
    "\n",
    "# Printing thr letter \n",
    "print(offer_letter_content)"
   ]
  },
  {
   "cell_type": "code",
   "execution_count": null,
   "id": "1d9d1b80-a9c7-48e6-88c4-503b5c419bdd",
   "metadata": {},
   "outputs": [],
   "source": []
  }
 ],
 "metadata": {
  "kernelspec": {
   "display_name": "Python 3 (ipykernel)",
   "language": "python",
   "name": "python3"
  },
  "language_info": {
   "codemirror_mode": {
    "name": "ipython",
    "version": 3
   },
   "file_extension": ".py",
   "mimetype": "text/x-python",
   "name": "python",
   "nbconvert_exporter": "python",
   "pygments_lexer": "ipython3",
   "version": "3.13.5"
  }
 },
 "nbformat": 4,
 "nbformat_minor": 5
}
